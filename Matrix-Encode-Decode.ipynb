{
 "cells": [
  {
   "cell_type": "code",
   "execution_count": 2,
   "metadata": {},
   "outputs": [
    {
     "data": {
      "text/plain": [
       "('42, -2, 9, -61, -82, -13, -66, -85, -14, 54, 22, 10, 33, -8, 12, -75, -110, -20, ',\n",
       " [array([16, 12,  5]),\n",
       "  array([ 1, 19,  5]),\n",
       "  array([ 0, 19,  5]),\n",
       "  array([14,  4,  0]),\n",
       "  array([13, 15, 14]),\n",
       "  array([ 5, 25,  0])])"
      ]
     },
     "execution_count": 2,
     "metadata": {},
     "output_type": "execute_result"
    }
   ],
   "source": [
    "import numpy as np\n",
    " \n",
    "def mat_encode(phrase):\n",
    "    alphas = ' abcdefghijklmnopqrstuvwxyz'\n",
    "    num_list = []\n",
    " \n",
    "    # A is your encoding matrix for this. All input text is converted into numbers, split into mini- arrays which are then multiplied with your encoder.\n",
    "    A = np.array([[5,3,1],\n",
    "                  [-4,-5,-1],\n",
    "                  [2,2,1]])     \n",
    "    \n",
    "    for i in phrase:\n",
    "        num_list.append(alphas.index(i.lower()))\n",
    "    \n",
    "    mini_arrays = [np.array(num_list[j:j + 3]) for j in range(0, len(num_list), 3)] \n",
    "    \n",
    "    encrypted_arrays = []\n",
    "    for k in mini_arrays:\n",
    "        encrypted_arrays.append(np.matmul(k, A))\n",
    "        \n",
    "    final = ''\n",
    "    for l in encrypted_arrays:\n",
    "        for m in l:\n",
    "            final += str(m)\n",
    "            final += ', '\n",
    "            \n",
    "    return final, mini_arrays\n",
    "\n",
    "\n",
    "mat_encode(\"please send money \")    # Test call to this method"
   ]
  },
  {
   "cell_type": "code",
   "execution_count": 4,
   "metadata": {},
   "outputs": [
    {
     "data": {
      "text/plain": [
       "'have a great weekend '"
      ]
     },
     "execution_count": 4,
     "metadata": {},
     "output_type": "execute_result"
    }
   ],
   "source": [
    "def mat_decode(encoded):\n",
    "    #takes encoded as a list of integers\n",
    "    n = 3\n",
    "    alphas = []\n",
    "    alphas.extend(' abcdefghijklmnopqrstuvwxyz')\n",
    "    \n",
    "    A_uninv = np.array([[2,1,2],\n",
    "                        [1,1,2],\n",
    "                        [2,2,5]])\n",
    "    A = np.linalg.inv(A_uninv)\n",
    "    \n",
    "    mini_arrays = [np.array(encoded[j:j + n]) for j in range(0, len(encoded), n)] \n",
    "    \n",
    "    decoded = []\n",
    "    for i in mini_arrays:\n",
    "        decoded.append(np.matmul(i,A))\n",
    "    \n",
    "    f = ''\n",
    "    \n",
    "    final = ''\n",
    "    for l in decoded:\n",
    "        for m in l:\n",
    "            final += alphas[int(round(m,0))]\n",
    "        \n",
    "    return final\n",
    "\n",
    "mat_decode([int(m) for m in \"61   53   128   12   7   15   43   43   104   51   46   112   33   33   71   31   26   57   32   18   36  \".split()])"
   ]
  },
  {
   "cell_type": "code",
   "execution_count": null,
   "metadata": {},
   "outputs": [],
   "source": []
  }
 ],
 "metadata": {
  "kernelspec": {
   "display_name": "Python 3",
   "language": "python",
   "name": "python3"
  },
  "language_info": {
   "codemirror_mode": {
    "name": "ipython",
    "version": 3
   },
   "file_extension": ".py",
   "mimetype": "text/x-python",
   "name": "python",
   "nbconvert_exporter": "python",
   "pygments_lexer": "ipython3",
   "version": "3.10.0"
  },
  "orig_nbformat": 4
 },
 "nbformat": 4,
 "nbformat_minor": 2
}
